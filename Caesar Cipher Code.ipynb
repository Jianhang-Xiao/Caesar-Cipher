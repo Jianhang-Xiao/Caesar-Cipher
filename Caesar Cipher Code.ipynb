{
 "cells": [
  {
   "cell_type": "code",
   "execution_count": 1,
   "metadata": {},
   "outputs": [
    {
     "name": "stdout",
     "output_type": "stream",
     "text": [
      "Original Message: hello world\n",
      "Encrypted Message: rovvy gybvn\n"
     ]
    }
   ],
   "source": [
    "def caesar_cipher(message, k):\n",
    "    result = \"\"\n",
    "\n",
    "    for char in message:\n",
    "        if char.isalpha():  # Check if the character is a letter\n",
    "            # Determine whether it's an uppercase or lowercase letter\n",
    "            is_upper = char.isupper()\n",
    "            \n",
    "            # Shift the letter by 'k' positions\n",
    "            shifted_char = chr((ord(char) - ord('A' if is_upper else 'a') + k) % 26 + ord('A' if is_upper else 'a'))\n",
    "            \n",
    "            result += shifted_char\n",
    "        else:\n",
    "            # If the character is not a letter, leave it unchanged\n",
    "            result += char\n",
    "\n",
    "    return result\n",
    "\n",
    "# Example usage\n",
    "message = \"hello world\"\n",
    "key = 10\n",
    "encrypted_message = caesar_cipher(message, key)\n",
    "print(f\"Original Message: {message}\")\n",
    "print(f\"Encrypted Message: {encrypted_message}\")"
   ]
  },
  {
   "cell_type": "code",
   "execution_count": null,
   "metadata": {},
   "outputs": [],
   "source": []
  },
  {
   "cell_type": "code",
   "execution_count": null,
   "metadata": {},
   "outputs": [],
   "source": [
    "import sys\n",
    "\n",
    "def encrypt(message, k):\n",
    "    result = \"\"\n",
    "    for char in message:\n",
    "        if char.isalpha():\n",
    "            is_upper = char.isupper()\n",
    "            shifted_char = chr((ord(char) - ord('A' if is_upper else 'a') + k) % 26 + ord('A' if is_upper else 'a'))\n",
    "            result += shifted_char\n",
    "        else:\n",
    "            result += char\n",
    "    return result\n",
    "\n",
    "def decrypt(message, k):\n",
    "    return encrypt(message, -k)  # Decrypting is the same as encrypting with the negative key\n",
    "\n",
    "if __name__ == \"__main__\":\n",
    "    # take in first arg as word\n",
    "    message = sys.argv[1]\n",
    "    # take in second arg as int key\n",
    "    key = int(sys.argv[2])\n",
    "\n",
    "    # encrypt your word\n",
    "    encrypted = encrypt(message, key)\n",
    "\n",
    "    # decrypt your encrypted word\n",
    "    decrypted = decrypt(encrypted, key)\n",
    "\n",
    "    print(\"Your original word is:\", message)\n",
    "    print(\"Your encrypted word is:\", encrypted)\n",
    "    print(\"Your decrypted word is:\", decrypted)"
   ]
  }
 ],
 "metadata": {
  "kernelspec": {
   "display_name": "Python 3",
   "language": "python",
   "name": "python3"
  },
  "language_info": {
   "codemirror_mode": {
    "name": "ipython",
    "version": 3
   },
   "file_extension": ".py",
   "mimetype": "text/x-python",
   "name": "python",
   "nbconvert_exporter": "python",
   "pygments_lexer": "ipython3",
   "version": "3.11.7"
  }
 },
 "nbformat": 4,
 "nbformat_minor": 2
}
